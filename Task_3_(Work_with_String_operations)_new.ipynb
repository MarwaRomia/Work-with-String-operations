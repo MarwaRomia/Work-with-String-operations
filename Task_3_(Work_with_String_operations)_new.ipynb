{
 "cells": [
  {
   "cell_type": "markdown",
   "metadata": {
    "id": "fXP6Jk1yuRxK"
   },
   "source": [
    "# you are working for a company that handling emails so your manager askes you to see the most domain that recieves emails \n",
    "# the recived mail must has \"TO\" in column Type , not CC or BCC , so make sure to filter with this column first and clean its values with string operations for better filter\n"
   ]
  },
  {
   "cell_type": "code",
   "execution_count": 9,
   "metadata": {
    "id": "zJpch2W7lFxQ",
    "scrolled": true
   },
   "outputs": [],
   "source": [
    "import numpy as np\n",
    "import pandas as pd\n"
   ]
  },
  {
   "cell_type": "code",
   "execution_count": 10,
   "metadata": {},
   "outputs": [],
   "source": [
    "#df = pd.read_csv('enron_email_threads_updated.csv',sep=\"\\t\",encoding=\"utf-8\")\n",
    "df=pd.read_csv('Enron_email_threads_updated.csv', sep='\\t', encoding='utf-16')"
   ]
  },
  {
   "cell_type": "code",
   "execution_count": 11,
   "metadata": {
    "id": "Od3Hcu-Xn36Z",
    "scrolled": true
   },
   "outputs": [
    {
     "data": {
      "text/html": [
       "<div>\n",
       "<style scoped>\n",
       "    .dataframe tbody tr th:only-of-type {\n",
       "        vertical-align: middle;\n",
       "    }\n",
       "\n",
       "    .dataframe tbody tr th {\n",
       "        vertical-align: top;\n",
       "    }\n",
       "\n",
       "    .dataframe thead th {\n",
       "        text-align: right;\n",
       "    }\n",
       "</style>\n",
       "<table border=\"1\" class=\"dataframe\">\n",
       "  <thead>\n",
       "    <tr style=\"text-align: right;\">\n",
       "      <th></th>\n",
       "      <th>TID</th>\n",
       "      <th>MID</th>\n",
       "      <th>From</th>\n",
       "      <th>TO</th>\n",
       "      <th>Timestamp</th>\n",
       "      <th>Type</th>\n",
       "    </tr>\n",
       "  </thead>\n",
       "  <tbody>\n",
       "    <tr>\n",
       "      <th>0</th>\n",
       "      <td>155a74d0930df40c</td>\n",
       "      <td>e9c42ba707f5e84</td>\n",
       "      <td>mark.whitt@enron.com</td>\n",
       "      <td>heidi.dubose@enron.com</td>\n",
       "      <td>2001-10-25T07:02:55-07:00</td>\n",
       "      <td>TO</td>\n",
       "    </tr>\n",
       "    <tr>\n",
       "      <th>1</th>\n",
       "      <td>155a01503aaa94d2</td>\n",
       "      <td>ea7d7b79039db9c</td>\n",
       "      <td>barry.tycholiz@enron.com</td>\n",
       "      <td>jessica.presas@enron.com</td>\n",
       "      <td>2001-11-30T05:39:51-08:00</td>\n",
       "      <td>TO</td>\n",
       "    </tr>\n",
       "    <tr>\n",
       "      <th>2</th>\n",
       "      <td>155a0146556ac9cb</td>\n",
       "      <td>e9e418ca9b8987a</td>\n",
       "      <td>barry.tycholiz@enron.com</td>\n",
       "      <td>stephanie.miller@enron.com</td>\n",
       "      <td>2001-10-31T10:50:10-08:00</td>\n",
       "      <td>TO</td>\n",
       "    </tr>\n",
       "    <tr>\n",
       "      <th>3</th>\n",
       "      <td>1559a0a82828c7c9</td>\n",
       "      <td>ea57a25b4ab0621</td>\n",
       "      <td>enron_update@concureworkplace.com</td>\n",
       "      <td>s..shively@enron.com</td>\n",
       "      <td>2001-11-22T21:16:45-08:00</td>\n",
       "      <td>TO</td>\n",
       "    </tr>\n",
       "    <tr>\n",
       "      <th>4</th>\n",
       "      <td>1559a0a82828c7c9</td>\n",
       "      <td>ea57a247904c8e9</td>\n",
       "      <td>enron_update@concureworkplace.com</td>\n",
       "      <td>jsteffe@enron.com</td>\n",
       "      <td>2001-11-22T21:16:40-08:00</td>\n",
       "      <td>TO</td>\n",
       "    </tr>\n",
       "  </tbody>\n",
       "</table>\n",
       "</div>"
      ],
      "text/plain": [
       "                TID              MID                               From  \\\n",
       "0  155a74d0930df40c  e9c42ba707f5e84               mark.whitt@enron.com   \n",
       "1  155a01503aaa94d2  ea7d7b79039db9c           barry.tycholiz@enron.com   \n",
       "2  155a0146556ac9cb  e9e418ca9b8987a           barry.tycholiz@enron.com   \n",
       "3  1559a0a82828c7c9  ea57a25b4ab0621  enron_update@concureworkplace.com   \n",
       "4  1559a0a82828c7c9  ea57a247904c8e9  enron_update@concureworkplace.com   \n",
       "\n",
       "                           TO                  Timestamp Type  \n",
       "0      heidi.dubose@enron.com  2001-10-25T07:02:55-07:00   TO  \n",
       "1    jessica.presas@enron.com  2001-11-30T05:39:51-08:00   TO  \n",
       "2  stephanie.miller@enron.com  2001-10-31T10:50:10-08:00   TO  \n",
       "3        s..shively@enron.com  2001-11-22T21:16:45-08:00   TO  \n",
       "4           jsteffe@enron.com  2001-11-22T21:16:40-08:00   TO  "
      ]
     },
     "execution_count": 11,
     "metadata": {},
     "output_type": "execute_result"
    }
   ],
   "source": [
    "df.head()"
   ]
  },
  {
   "cell_type": "code",
   "execution_count": 12,
   "metadata": {
    "id": "UVyaLQnPr5FB"
   },
   "outputs": [
    {
     "data": {
      "text/plain": [
       "Index(['TID', 'MID', 'From', 'TO', 'Timestamp', 'Type'], dtype='object')"
      ]
     },
     "execution_count": 12,
     "metadata": {},
     "output_type": "execute_result"
    }
   ],
   "source": [
    "df.columns"
   ]
  },
  {
   "cell_type": "code",
   "execution_count": 13,
   "metadata": {
    "id": "bRcQYsucr9J5"
   },
   "outputs": [
    {
     "data": {
      "text/html": [
       "<div>\n",
       "<style scoped>\n",
       "    .dataframe tbody tr th:only-of-type {\n",
       "        vertical-align: middle;\n",
       "    }\n",
       "\n",
       "    .dataframe tbody tr th {\n",
       "        vertical-align: top;\n",
       "    }\n",
       "\n",
       "    .dataframe thead th {\n",
       "        text-align: right;\n",
       "    }\n",
       "</style>\n",
       "<table border=\"1\" class=\"dataframe\">\n",
       "  <thead>\n",
       "    <tr style=\"text-align: right;\">\n",
       "      <th></th>\n",
       "      <th>TO</th>\n",
       "      <th>Type</th>\n",
       "    </tr>\n",
       "  </thead>\n",
       "  <tbody>\n",
       "    <tr>\n",
       "      <th>0</th>\n",
       "      <td>heidi.dubose@enron.com</td>\n",
       "      <td>TO</td>\n",
       "    </tr>\n",
       "    <tr>\n",
       "      <th>1</th>\n",
       "      <td>jessica.presas@enron.com</td>\n",
       "      <td>TO</td>\n",
       "    </tr>\n",
       "    <tr>\n",
       "      <th>2</th>\n",
       "      <td>stephanie.miller@enron.com</td>\n",
       "      <td>TO</td>\n",
       "    </tr>\n",
       "    <tr>\n",
       "      <th>3</th>\n",
       "      <td>s..shively@enron.com</td>\n",
       "      <td>TO</td>\n",
       "    </tr>\n",
       "    <tr>\n",
       "      <th>4</th>\n",
       "      <td>jsteffe@enron.com</td>\n",
       "      <td>TO</td>\n",
       "    </tr>\n",
       "    <tr>\n",
       "      <th>...</th>\n",
       "      <td>...</td>\n",
       "      <td>...</td>\n",
       "    </tr>\n",
       "    <tr>\n",
       "      <th>471869</th>\n",
       "      <td>pete.davis@enron.com</td>\n",
       "      <td>TO</td>\n",
       "    </tr>\n",
       "    <tr>\n",
       "      <th>471870</th>\n",
       "      <td>pete.davis@enron.com</td>\n",
       "      <td>CC</td>\n",
       "    </tr>\n",
       "    <tr>\n",
       "      <th>471871</th>\n",
       "      <td>pete.davis@enron.com</td>\n",
       "      <td>BCC</td>\n",
       "    </tr>\n",
       "    <tr>\n",
       "      <th>471872</th>\n",
       "      <td>ryan.slinger@enron.com</td>\n",
       "      <td>CC</td>\n",
       "    </tr>\n",
       "    <tr>\n",
       "      <th>471873</th>\n",
       "      <td>ryan.slinger@enron.com</td>\n",
       "      <td>BCC</td>\n",
       "    </tr>\n",
       "  </tbody>\n",
       "</table>\n",
       "<p>471874 rows × 2 columns</p>\n",
       "</div>"
      ],
      "text/plain": [
       "                                TO Type\n",
       "0           heidi.dubose@enron.com   TO\n",
       "1         jessica.presas@enron.com   TO\n",
       "2       stephanie.miller@enron.com   TO\n",
       "3             s..shively@enron.com   TO\n",
       "4                jsteffe@enron.com   TO\n",
       "...                            ...  ...\n",
       "471869        pete.davis@enron.com   TO\n",
       "471870        pete.davis@enron.com   CC\n",
       "471871        pete.davis@enron.com  BCC\n",
       "471872      ryan.slinger@enron.com   CC\n",
       "471873      ryan.slinger@enron.com  BCC\n",
       "\n",
       "[471874 rows x 2 columns]"
      ]
     },
     "execution_count": 13,
     "metadata": {},
     "output_type": "execute_result"
    }
   ],
   "source": [
    "df.loc[:,['TO','Type']]\n"
   ]
  },
  {
   "cell_type": "code",
   "execution_count": 14,
   "metadata": {},
   "outputs": [
    {
     "data": {
      "text/plain": [
       "0    enron.com\n",
       "dtype: object"
      ]
     },
     "execution_count": 14,
     "metadata": {},
     "output_type": "execute_result"
    }
   ],
   "source": [
    "df['extract_email'] = df['TO'].str.split('@').str[1]\n",
    "df['extract_email'].mode()\n"
   ]
  },
  {
   "cell_type": "code",
   "execution_count": 15,
   "metadata": {
    "id": "yEWFJIslpOUA"
   },
   "outputs": [
    {
     "data": {
      "text/html": [
       "<div>\n",
       "<style scoped>\n",
       "    .dataframe tbody tr th:only-of-type {\n",
       "        vertical-align: middle;\n",
       "    }\n",
       "\n",
       "    .dataframe tbody tr th {\n",
       "        vertical-align: top;\n",
       "    }\n",
       "\n",
       "    .dataframe thead th {\n",
       "        text-align: right;\n",
       "    }\n",
       "</style>\n",
       "<table border=\"1\" class=\"dataframe\">\n",
       "  <thead>\n",
       "    <tr style=\"text-align: right;\">\n",
       "      <th></th>\n",
       "      <th>extract_email</th>\n",
       "      <th>Type</th>\n",
       "      <th>TO</th>\n",
       "    </tr>\n",
       "  </thead>\n",
       "  <tbody>\n",
       "    <tr>\n",
       "      <th>0</th>\n",
       "      <td>126.com</td>\n",
       "      <td>TO</td>\n",
       "      <td>slfqnbwpia@126.com</td>\n",
       "    </tr>\n",
       "    <tr>\n",
       "      <th>1</th>\n",
       "      <td>163.net</td>\n",
       "      <td>TO</td>\n",
       "      <td>cmiya@163.net</td>\n",
       "    </tr>\n",
       "    <tr>\n",
       "      <th>2</th>\n",
       "      <td>188.net</td>\n",
       "      <td>TO</td>\n",
       "      <td>7666@188.net</td>\n",
       "    </tr>\n",
       "    <tr>\n",
       "      <th>3</th>\n",
       "      <td>1internetdrive.com</td>\n",
       "      <td>TO</td>\n",
       "      <td>offandrunning@1internetdrive.com</td>\n",
       "    </tr>\n",
       "    <tr>\n",
       "      <th>4</th>\n",
       "      <td>21cn.com</td>\n",
       "      <td>TO</td>\n",
       "      <td>juzdm@21cn.com</td>\n",
       "    </tr>\n",
       "    <tr>\n",
       "      <th>...</th>\n",
       "      <td>...</td>\n",
       "      <td>...</td>\n",
       "      <td>...</td>\n",
       "    </tr>\n",
       "    <tr>\n",
       "      <th>2341</th>\n",
       "      <td>zeusdevelopment.com</td>\n",
       "      <td>TO</td>\n",
       "      <td>bnimocks@zeusdevelopment.com</td>\n",
       "    </tr>\n",
       "    <tr>\n",
       "      <th>2342</th>\n",
       "      <td>ziffenergy.com</td>\n",
       "      <td>TO</td>\n",
       "      <td>cgingrich@ziffenergy.com</td>\n",
       "    </tr>\n",
       "    <tr>\n",
       "      <th>2343</th>\n",
       "      <td>zilkha.com</td>\n",
       "      <td>TO</td>\n",
       "      <td>michael@zilkha.com</td>\n",
       "    </tr>\n",
       "    <tr>\n",
       "      <th>2344</th>\n",
       "      <td>zoo-phonics.com</td>\n",
       "      <td>TO</td>\n",
       "      <td>gigi@zoo-phonics.com</td>\n",
       "    </tr>\n",
       "    <tr>\n",
       "      <th>2345</th>\n",
       "      <td>zrfmlaw.com</td>\n",
       "      <td>TO</td>\n",
       "      <td>mcortina@zrfmlaw.com</td>\n",
       "    </tr>\n",
       "  </tbody>\n",
       "</table>\n",
       "<p>2346 rows × 3 columns</p>\n",
       "</div>"
      ],
      "text/plain": [
       "            extract_email Type                                TO\n",
       "0                 126.com   TO                slfqnbwpia@126.com\n",
       "1                 163.net   TO                     cmiya@163.net\n",
       "2                 188.net   TO                      7666@188.net\n",
       "3      1internetdrive.com   TO  offandrunning@1internetdrive.com\n",
       "4                21cn.com   TO                    juzdm@21cn.com\n",
       "...                   ...  ...                               ...\n",
       "2341  zeusdevelopment.com   TO      bnimocks@zeusdevelopment.com\n",
       "2342       ziffenergy.com   TO          cgingrich@ziffenergy.com\n",
       "2343           zilkha.com   TO                michael@zilkha.com\n",
       "2344      zoo-phonics.com   TO              gigi@zoo-phonics.com\n",
       "2345          zrfmlaw.com   TO              mcortina@zrfmlaw.com\n",
       "\n",
       "[2346 rows x 3 columns]"
      ]
     },
     "execution_count": 15,
     "metadata": {},
     "output_type": "execute_result"
    }
   ],
   "source": [
    "df[df['Type'].str.contains('TO')].groupby(['extract_email','Type']).agg({\n",
    "    'TO':'max'\n",
    "    #'extract_email':'max'\n",
    "}).reset_index()"
   ]
  },
  {
   "cell_type": "code",
   "execution_count": null,
   "metadata": {
    "id": "tvYSFEDkpbEY"
   },
   "outputs": [],
   "source": []
  }
 ],
 "metadata": {
  "colab": {
   "provenance": []
  },
  "kernelspec": {
   "display_name": "Python 3",
   "language": "python",
   "name": "python3"
  },
  "language_info": {
   "codemirror_mode": {
    "name": "ipython",
    "version": 3
   },
   "file_extension": ".py",
   "mimetype": "text/x-python",
   "name": "python",
   "nbconvert_exporter": "python",
   "pygments_lexer": "ipython3",
   "version": "3.7.6"
  }
 },
 "nbformat": 4,
 "nbformat_minor": 1
}
